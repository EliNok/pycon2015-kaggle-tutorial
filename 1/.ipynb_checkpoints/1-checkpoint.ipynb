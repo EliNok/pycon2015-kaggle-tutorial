{
 "cells": [
  {
   "cell_type": "code",
   "execution_count": 1,
   "metadata": {
    "collapsed": true
   },
   "outputs": [],
   "source": [
    "import pandas as pd"
   ]
  },
  {
   "cell_type": "code",
   "execution_count": 2,
   "metadata": {
    "collapsed": false
   },
   "outputs": [
    {
     "name": "stdout",
     "output_type": "stream",
     "text": [
      "/Users/david/github/PyCon2015/1\r\n"
     ]
    }
   ],
   "source": [
    "!pwd"
   ]
  },
  {
   "cell_type": "code",
   "execution_count": 3,
   "metadata": {
    "collapsed": false
   },
   "outputs": [],
   "source": [
    "train = pd.read_csv(\"../raw/train.csv\")"
   ]
  },
  {
   "cell_type": "code",
   "execution_count": 4,
   "metadata": {
    "collapsed": false
   },
   "outputs": [
    {
     "data": {
      "text/html": [
       "<div style=\"max-height:1000px;max-width:1500px;overflow:auto;\">\n",
       "<table border=\"1\" class=\"dataframe\">\n",
       "  <thead>\n",
       "    <tr style=\"text-align: right;\">\n",
       "      <th></th>\n",
       "      <th>Unnamed: 0</th>\n",
       "      <th>PostId</th>\n",
       "      <th>PostCreationDate</th>\n",
       "      <th>OwnerUserId</th>\n",
       "      <th>OwnerCreationDate</th>\n",
       "      <th>ReputationAtPostCreation</th>\n",
       "      <th>OwnerUndeletedAnswerCountAtPostTime</th>\n",
       "      <th>Title</th>\n",
       "      <th>BodyMarkdown</th>\n",
       "      <th>Tag1</th>\n",
       "      <th>Tag2</th>\n",
       "      <th>Tag3</th>\n",
       "      <th>Tag4</th>\n",
       "      <th>Tag5</th>\n",
       "      <th>PostClosedDate</th>\n",
       "      <th>OpenStatus</th>\n",
       "    </tr>\n",
       "  </thead>\n",
       "  <tbody>\n",
       "    <tr>\n",
       "      <th>0</th>\n",
       "      <td>0</td>\n",
       "      <td>6046168</td>\n",
       "      <td>05/18/2011 14:14:05</td>\n",
       "      <td>543315</td>\n",
       "      <td>09/17/2010 10:15:06</td>\n",
       "      <td>1</td>\n",
       "      <td>2</td>\n",
       "      <td>For Mongodb is it better to reference an objec...</td>\n",
       "      <td>I am building a corpus of indexed sentences in...</td>\n",
       "      <td>mongodb</td>\n",
       "      <td>NaN</td>\n",
       "      <td>NaN</td>\n",
       "      <td>NaN</td>\n",
       "      <td>NaN</td>\n",
       "      <td>NaN</td>\n",
       "      <td>1</td>\n",
       "    </tr>\n",
       "    <tr>\n",
       "      <th>1</th>\n",
       "      <td>1</td>\n",
       "      <td>4873911</td>\n",
       "      <td>02/02/2011 11:30:10</td>\n",
       "      <td>465076</td>\n",
       "      <td>10/03/2010 09:30:58</td>\n",
       "      <td>192</td>\n",
       "      <td>24</td>\n",
       "      <td>How to insert schemalocation in a xml document...</td>\n",
       "      <td>i create a xml document with JAXP and search a...</td>\n",
       "      <td>dom</td>\n",
       "      <td>xsd</td>\n",
       "      <td>jaxp</td>\n",
       "      <td>NaN</td>\n",
       "      <td>NaN</td>\n",
       "      <td>NaN</td>\n",
       "      <td>1</td>\n",
       "    </tr>\n",
       "    <tr>\n",
       "      <th>2</th>\n",
       "      <td>2</td>\n",
       "      <td>3311559</td>\n",
       "      <td>07/22/2010 17:21:54</td>\n",
       "      <td>406143</td>\n",
       "      <td>07/22/2010 16:58:20</td>\n",
       "      <td>1</td>\n",
       "      <td>0</td>\n",
       "      <td>Too many lookup tables</td>\n",
       "      <td>What are the adverse effects of having too man...</td>\n",
       "      <td>sql-server</td>\n",
       "      <td>database-design</td>\n",
       "      <td>enums</td>\n",
       "      <td>NaN</td>\n",
       "      <td>NaN</td>\n",
       "      <td>NaN</td>\n",
       "      <td>1</td>\n",
       "    </tr>\n",
       "    <tr>\n",
       "      <th>3</th>\n",
       "      <td>3</td>\n",
       "      <td>9990413</td>\n",
       "      <td>04/03/2012 09:18:39</td>\n",
       "      <td>851755</td>\n",
       "      <td>07/19/2011 10:22:40</td>\n",
       "      <td>4</td>\n",
       "      <td>1</td>\n",
       "      <td>What is this PHP code in VB.net</td>\n",
       "      <td>I am looking for the vb.net equivalent of this...</td>\n",
       "      <td>php</td>\n",
       "      <td>vb.net</td>\n",
       "      <td>NaN</td>\n",
       "      <td>NaN</td>\n",
       "      <td>NaN</td>\n",
       "      <td>04/15/2012 21:12:48</td>\n",
       "      <td>0</td>\n",
       "    </tr>\n",
       "    <tr>\n",
       "      <th>4</th>\n",
       "      <td>4</td>\n",
       "      <td>10421966</td>\n",
       "      <td>05/02/2012 21:25:01</td>\n",
       "      <td>603588</td>\n",
       "      <td>02/04/2011 18:05:34</td>\n",
       "      <td>334</td>\n",
       "      <td>14</td>\n",
       "      <td>Spring-Data mongodb querying multiple classes ...</td>\n",
       "      <td>With Spring-Data, you can use the @Document an...</td>\n",
       "      <td>mongodb</td>\n",
       "      <td>spring-data</td>\n",
       "      <td>NaN</td>\n",
       "      <td>NaN</td>\n",
       "      <td>NaN</td>\n",
       "      <td>NaN</td>\n",
       "      <td>1</td>\n",
       "    </tr>\n",
       "  </tbody>\n",
       "</table>\n",
       "</div>"
      ],
      "text/plain": [
       "   Unnamed: 0    PostId     PostCreationDate  OwnerUserId  \\\n",
       "0           0   6046168  05/18/2011 14:14:05       543315   \n",
       "1           1   4873911  02/02/2011 11:30:10       465076   \n",
       "2           2   3311559  07/22/2010 17:21:54       406143   \n",
       "3           3   9990413  04/03/2012 09:18:39       851755   \n",
       "4           4  10421966  05/02/2012 21:25:01       603588   \n",
       "\n",
       "     OwnerCreationDate  ReputationAtPostCreation  \\\n",
       "0  09/17/2010 10:15:06                         1   \n",
       "1  10/03/2010 09:30:58                       192   \n",
       "2  07/22/2010 16:58:20                         1   \n",
       "3  07/19/2011 10:22:40                         4   \n",
       "4  02/04/2011 18:05:34                       334   \n",
       "\n",
       "   OwnerUndeletedAnswerCountAtPostTime  \\\n",
       "0                                    2   \n",
       "1                                   24   \n",
       "2                                    0   \n",
       "3                                    1   \n",
       "4                                   14   \n",
       "\n",
       "                                               Title  \\\n",
       "0  For Mongodb is it better to reference an objec...   \n",
       "1  How to insert schemalocation in a xml document...   \n",
       "2                            Too many lookup tables    \n",
       "3                    What is this PHP code in VB.net   \n",
       "4  Spring-Data mongodb querying multiple classes ...   \n",
       "\n",
       "                                        BodyMarkdown        Tag1  \\\n",
       "0  I am building a corpus of indexed sentences in...     mongodb   \n",
       "1  i create a xml document with JAXP and search a...         dom   \n",
       "2  What are the adverse effects of having too man...  sql-server   \n",
       "3  I am looking for the vb.net equivalent of this...         php   \n",
       "4  With Spring-Data, you can use the @Document an...     mongodb   \n",
       "\n",
       "              Tag2   Tag3 Tag4 Tag5       PostClosedDate  OpenStatus  \n",
       "0              NaN    NaN  NaN  NaN                  NaN           1  \n",
       "1              xsd   jaxp  NaN  NaN                  NaN           1  \n",
       "2  database-design  enums  NaN  NaN                  NaN           1  \n",
       "3           vb.net    NaN  NaN  NaN  04/15/2012 21:12:48           0  \n",
       "4      spring-data    NaN  NaN  NaN                  NaN           1  "
      ]
     },
     "execution_count": 4,
     "metadata": {},
     "output_type": "execute_result"
    }
   ],
   "source": [
    "train.head()"
   ]
  },
  {
   "cell_type": "code",
   "execution_count": 5,
   "metadata": {
    "collapsed": false
   },
   "outputs": [
    {
     "data": {
      "text/html": [
       "<div style=\"max-height:1000px;max-width:1500px;overflow:auto;\">\n",
       "<table border=\"1\" class=\"dataframe\">\n",
       "  <thead>\n",
       "    <tr style=\"text-align: right;\">\n",
       "      <th></th>\n",
       "      <th>0</th>\n",
       "      <th>1</th>\n",
       "      <th>2</th>\n",
       "      <th>3</th>\n",
       "      <th>4</th>\n",
       "    </tr>\n",
       "  </thead>\n",
       "  <tbody>\n",
       "    <tr>\n",
       "      <th>Unnamed: 0</th>\n",
       "      <td>0</td>\n",
       "      <td>1</td>\n",
       "      <td>2</td>\n",
       "      <td>3</td>\n",
       "      <td>4</td>\n",
       "    </tr>\n",
       "    <tr>\n",
       "      <th>PostId</th>\n",
       "      <td>6046168</td>\n",
       "      <td>4873911</td>\n",
       "      <td>3311559</td>\n",
       "      <td>9990413</td>\n",
       "      <td>10421966</td>\n",
       "    </tr>\n",
       "    <tr>\n",
       "      <th>PostCreationDate</th>\n",
       "      <td>05/18/2011 14:14:05</td>\n",
       "      <td>02/02/2011 11:30:10</td>\n",
       "      <td>07/22/2010 17:21:54</td>\n",
       "      <td>04/03/2012 09:18:39</td>\n",
       "      <td>05/02/2012 21:25:01</td>\n",
       "    </tr>\n",
       "    <tr>\n",
       "      <th>OwnerUserId</th>\n",
       "      <td>543315</td>\n",
       "      <td>465076</td>\n",
       "      <td>406143</td>\n",
       "      <td>851755</td>\n",
       "      <td>603588</td>\n",
       "    </tr>\n",
       "    <tr>\n",
       "      <th>OwnerCreationDate</th>\n",
       "      <td>09/17/2010 10:15:06</td>\n",
       "      <td>10/03/2010 09:30:58</td>\n",
       "      <td>07/22/2010 16:58:20</td>\n",
       "      <td>07/19/2011 10:22:40</td>\n",
       "      <td>02/04/2011 18:05:34</td>\n",
       "    </tr>\n",
       "    <tr>\n",
       "      <th>ReputationAtPostCreation</th>\n",
       "      <td>1</td>\n",
       "      <td>192</td>\n",
       "      <td>1</td>\n",
       "      <td>4</td>\n",
       "      <td>334</td>\n",
       "    </tr>\n",
       "    <tr>\n",
       "      <th>OwnerUndeletedAnswerCountAtPostTime</th>\n",
       "      <td>2</td>\n",
       "      <td>24</td>\n",
       "      <td>0</td>\n",
       "      <td>1</td>\n",
       "      <td>14</td>\n",
       "    </tr>\n",
       "    <tr>\n",
       "      <th>Title</th>\n",
       "      <td>For Mongodb is it better to reference an objec...</td>\n",
       "      <td>How to insert schemalocation in a xml document...</td>\n",
       "      <td>Too many lookup tables</td>\n",
       "      <td>What is this PHP code in VB.net</td>\n",
       "      <td>Spring-Data mongodb querying multiple classes ...</td>\n",
       "    </tr>\n",
       "    <tr>\n",
       "      <th>BodyMarkdown</th>\n",
       "      <td>I am building a corpus of indexed sentences in...</td>\n",
       "      <td>i create a xml document with JAXP and search a...</td>\n",
       "      <td>What are the adverse effects of having too man...</td>\n",
       "      <td>I am looking for the vb.net equivalent of this...</td>\n",
       "      <td>With Spring-Data, you can use the @Document an...</td>\n",
       "    </tr>\n",
       "    <tr>\n",
       "      <th>Tag1</th>\n",
       "      <td>mongodb</td>\n",
       "      <td>dom</td>\n",
       "      <td>sql-server</td>\n",
       "      <td>php</td>\n",
       "      <td>mongodb</td>\n",
       "    </tr>\n",
       "    <tr>\n",
       "      <th>Tag2</th>\n",
       "      <td>NaN</td>\n",
       "      <td>xsd</td>\n",
       "      <td>database-design</td>\n",
       "      <td>vb.net</td>\n",
       "      <td>spring-data</td>\n",
       "    </tr>\n",
       "    <tr>\n",
       "      <th>Tag3</th>\n",
       "      <td>NaN</td>\n",
       "      <td>jaxp</td>\n",
       "      <td>enums</td>\n",
       "      <td>NaN</td>\n",
       "      <td>NaN</td>\n",
       "    </tr>\n",
       "    <tr>\n",
       "      <th>Tag4</th>\n",
       "      <td>NaN</td>\n",
       "      <td>NaN</td>\n",
       "      <td>NaN</td>\n",
       "      <td>NaN</td>\n",
       "      <td>NaN</td>\n",
       "    </tr>\n",
       "    <tr>\n",
       "      <th>Tag5</th>\n",
       "      <td>NaN</td>\n",
       "      <td>NaN</td>\n",
       "      <td>NaN</td>\n",
       "      <td>NaN</td>\n",
       "      <td>NaN</td>\n",
       "    </tr>\n",
       "    <tr>\n",
       "      <th>PostClosedDate</th>\n",
       "      <td>NaN</td>\n",
       "      <td>NaN</td>\n",
       "      <td>NaN</td>\n",
       "      <td>04/15/2012 21:12:48</td>\n",
       "      <td>NaN</td>\n",
       "    </tr>\n",
       "    <tr>\n",
       "      <th>OpenStatus</th>\n",
       "      <td>1</td>\n",
       "      <td>1</td>\n",
       "      <td>1</td>\n",
       "      <td>0</td>\n",
       "      <td>1</td>\n",
       "    </tr>\n",
       "  </tbody>\n",
       "</table>\n",
       "</div>"
      ],
      "text/plain": [
       "                                                                                     0  \\\n",
       "Unnamed: 0                                                                           0   \n",
       "PostId                                                                         6046168   \n",
       "PostCreationDate                                                   05/18/2011 14:14:05   \n",
       "OwnerUserId                                                                     543315   \n",
       "OwnerCreationDate                                                  09/17/2010 10:15:06   \n",
       "ReputationAtPostCreation                                                             1   \n",
       "OwnerUndeletedAnswerCountAtPostTime                                                  2   \n",
       "Title                                For Mongodb is it better to reference an objec...   \n",
       "BodyMarkdown                         I am building a corpus of indexed sentences in...   \n",
       "Tag1                                                                           mongodb   \n",
       "Tag2                                                                               NaN   \n",
       "Tag3                                                                               NaN   \n",
       "Tag4                                                                               NaN   \n",
       "Tag5                                                                               NaN   \n",
       "PostClosedDate                                                                     NaN   \n",
       "OpenStatus                                                                           1   \n",
       "\n",
       "                                                                                     1  \\\n",
       "Unnamed: 0                                                                           1   \n",
       "PostId                                                                         4873911   \n",
       "PostCreationDate                                                   02/02/2011 11:30:10   \n",
       "OwnerUserId                                                                     465076   \n",
       "OwnerCreationDate                                                  10/03/2010 09:30:58   \n",
       "ReputationAtPostCreation                                                           192   \n",
       "OwnerUndeletedAnswerCountAtPostTime                                                 24   \n",
       "Title                                How to insert schemalocation in a xml document...   \n",
       "BodyMarkdown                         i create a xml document with JAXP and search a...   \n",
       "Tag1                                                                               dom   \n",
       "Tag2                                                                               xsd   \n",
       "Tag3                                                                              jaxp   \n",
       "Tag4                                                                               NaN   \n",
       "Tag5                                                                               NaN   \n",
       "PostClosedDate                                                                     NaN   \n",
       "OpenStatus                                                                           1   \n",
       "\n",
       "                                                                                     2  \\\n",
       "Unnamed: 0                                                                           2   \n",
       "PostId                                                                         3311559   \n",
       "PostCreationDate                                                   07/22/2010 17:21:54   \n",
       "OwnerUserId                                                                     406143   \n",
       "OwnerCreationDate                                                  07/22/2010 16:58:20   \n",
       "ReputationAtPostCreation                                                             1   \n",
       "OwnerUndeletedAnswerCountAtPostTime                                                  0   \n",
       "Title                                                          Too many lookup tables    \n",
       "BodyMarkdown                         What are the adverse effects of having too man...   \n",
       "Tag1                                                                        sql-server   \n",
       "Tag2                                                                   database-design   \n",
       "Tag3                                                                             enums   \n",
       "Tag4                                                                               NaN   \n",
       "Tag5                                                                               NaN   \n",
       "PostClosedDate                                                                     NaN   \n",
       "OpenStatus                                                                           1   \n",
       "\n",
       "                                                                                     3  \\\n",
       "Unnamed: 0                                                                           3   \n",
       "PostId                                                                         9990413   \n",
       "PostCreationDate                                                   04/03/2012 09:18:39   \n",
       "OwnerUserId                                                                     851755   \n",
       "OwnerCreationDate                                                  07/19/2011 10:22:40   \n",
       "ReputationAtPostCreation                                                             4   \n",
       "OwnerUndeletedAnswerCountAtPostTime                                                  1   \n",
       "Title                                                  What is this PHP code in VB.net   \n",
       "BodyMarkdown                         I am looking for the vb.net equivalent of this...   \n",
       "Tag1                                                                               php   \n",
       "Tag2                                                                            vb.net   \n",
       "Tag3                                                                               NaN   \n",
       "Tag4                                                                               NaN   \n",
       "Tag5                                                                               NaN   \n",
       "PostClosedDate                                                     04/15/2012 21:12:48   \n",
       "OpenStatus                                                                           0   \n",
       "\n",
       "                                                                                     4  \n",
       "Unnamed: 0                                                                           4  \n",
       "PostId                                                                        10421966  \n",
       "PostCreationDate                                                   05/02/2012 21:25:01  \n",
       "OwnerUserId                                                                     603588  \n",
       "OwnerCreationDate                                                  02/04/2011 18:05:34  \n",
       "ReputationAtPostCreation                                                           334  \n",
       "OwnerUndeletedAnswerCountAtPostTime                                                 14  \n",
       "Title                                Spring-Data mongodb querying multiple classes ...  \n",
       "BodyMarkdown                         With Spring-Data, you can use the @Document an...  \n",
       "Tag1                                                                           mongodb  \n",
       "Tag2                                                                       spring-data  \n",
       "Tag3                                                                               NaN  \n",
       "Tag4                                                                               NaN  \n",
       "Tag5                                                                               NaN  \n",
       "PostClosedDate                                                                     NaN  \n",
       "OpenStatus                                                                           1  "
      ]
     },
     "execution_count": 5,
     "metadata": {},
     "output_type": "execute_result"
    }
   ],
   "source": [
    "train.head().transpose()"
   ]
  },
  {
   "cell_type": "code",
   "execution_count": 6,
   "metadata": {
    "collapsed": true
   },
   "outputs": [],
   "source": [
    "train[\"TitleLength\"] = train.Title.apply(len)"
   ]
  },
  {
   "cell_type": "code",
   "execution_count": 7,
   "metadata": {
    "collapsed": false
   },
   "outputs": [
    {
     "data": {
      "text/plain": [
       "(array([  3.57020000e+04,   6.57980000e+04,   2.93590000e+04,\n",
       "          7.44800000e+03,   1.57500000e+03,   3.80000000e+02,\n",
       "          5.00000000e+00,   1.00000000e+00,   1.00000000e+00,\n",
       "          3.00000000e+00]),\n",
       " array([  10.,   34.,   58.,   82.,  106.,  130.,  154.,  178.,  202.,\n",
       "         226.,  250.]),\n",
       " <a list of 10 Patch objects>)"
      ]
     },
     "execution_count": 7,
     "metadata": {},
     "output_type": "execute_result"
    },
    {
     "data": {
      "image/png": "[encoded data removed]",
      "text/plain": [
       "<matplotlib.figure.Figure at 0x11665c908>"
      ]
     },
     "metadata": {},
     "output_type": "display_data"
    }
   ],
   "source": [
    "import matplotlib.pyplot as plt\n",
    "import seaborn as sns\n",
    "import numpy as np\n",
    "%matplotlib inline\n",
    "\n",
    "plt.hist(train.TitleLength.values)"
   ]
  },
  {
   "cell_type": "code",
   "execution_count": 8,
   "metadata": {
    "collapsed": false
   },
   "outputs": [
    {
     "data": {
      "text/plain": [
       "<matplotlib.legend.Legend at 0x117fa4828>"
      ]
     },
     "execution_count": 8,
     "metadata": {},
     "output_type": "execute_result"
    },
    {
     "data": {
      "image/png": "[encoded data removed]",
      "text/plain": [
       "<matplotlib.figure.Figure at 0x117fa4e10>"
      ]
     },
     "metadata": {},
     "output_type": "display_data"
    }
   ],
   "source": [
    "plt.hist([train[train.OpenStatus==0].TitleLength.values, \n",
    "          train[train.OpenStatus==1].TitleLength.values],\n",
    "         label = [\"closed\", \"open\"],\n",
    "         alpha=.5);\n",
    "plt.legend()"
   ]
  },
  {
   "cell_type": "code",
   "execution_count": 9,
   "metadata": {
    "collapsed": false
   },
   "outputs": [
    {
     "data": {
      "text/plain": [
       "<matplotlib.collections.PathCollection at 0x109e44b00>"
      ]
     },
     "execution_count": 9,
     "metadata": {},
     "output_type": "execute_result"
    },
    {
     "data": {
      "image/png": "[encoded data removed]",
      "text/plain": [
       "<matplotlib.figure.Figure at 0x11665c7b8>"
      ]
     },
     "metadata": {},
     "output_type": "display_data"
    }
   ],
   "source": [
    "plt.scatter(train.TitleLength, train.OpenStatus)"
   ]
  },
  {
   "cell_type": "code",
   "execution_count": 10,
   "metadata": {
    "collapsed": false
   },
   "outputs": [
    {
     "data": {
      "text/plain": [
       "<matplotlib.text.Text at 0x109e90438>"
      ]
     },
     "execution_count": 10,
     "metadata": {},
     "output_type": "execute_result"
    },
    {
     "data": {
      "image/png": "[encoded data removed]",
      "text/plain": [
       "<matplotlib.figure.Figure at 0x109e55dd8>"
      ]
     },
     "metadata": {},
     "output_type": "display_data"
    }
   ],
   "source": [
    "mean_status_by_length = train.groupby(\"TitleLength\").OpenStatus.mean()\n",
    "mean_status_by_length_df = pd.DataFrame(mean_status_by_length).reset_index()\n",
    "\n",
    "# add random errors with a normal distribution                      \n",
    "length_status_scatter = plt.scatter(mean_status_by_length_df.TitleLength, mean_status_by_length_df.OpenStatus, alpha=.5)\n",
    "length_status_scatter\n",
    "plt.xlabel(\"Title Length\")\n",
    "plt.ylabel(\"Average OpenStatus\")"
   ]
  },
  {
   "cell_type": "code",
   "execution_count": 11,
   "metadata": {
    "collapsed": false
   },
   "outputs": [
    {
     "data": {
      "text/plain": [
       "<matplotlib.legend.Legend at 0x109e09390>"
      ]
     },
     "execution_count": 11,
     "metadata": {},
     "output_type": "execute_result"
    },
    {
     "data": {
      "image/png": "[encoded data removed]",
      "text/plain": [
       "<matplotlib.figure.Figure at 0x109ed7cf8>"
      ]
     },
     "metadata": {},
     "output_type": "display_data"
    }
   ],
   "source": [
    "plt.hist([train[train.OpenStatus==0].ReputationAtPostCreation.values, \n",
    "          train[train.OpenStatus==1].ReputationAtPostCreation.values],\n",
    "         label = [0, 1],\n",
    "         alpha=.5);\n",
    "plt.legend()"
   ]
  },
  {
   "cell_type": "code",
   "execution_count": 12,
   "metadata": {
    "collapsed": false
   },
   "outputs": [
    {
     "data": {
      "text/plain": [
       "<matplotlib.legend.Legend at 0x109fba358>"
      ]
     },
     "execution_count": 12,
     "metadata": {},
     "output_type": "execute_result"
    },
    {
     "data": {
      "image/png": "[encoded data removed]",
      "text/plain": [
       "<matplotlib.figure.Figure at 0x109e5c240>"
      ]
     },
     "metadata": {},
     "output_type": "display_data"
    }
   ],
   "source": [
    "train_low_rep = train[train.ReputationAtPostCreation < 50]\n",
    "plt.hist([train_low_rep[train_low_rep.OpenStatus==0].ReputationAtPostCreation.values, \n",
    "          train_low_rep[train_low_rep.OpenStatus==1].ReputationAtPostCreation.values],\n",
    "         label = [0, 1],\n",
    "         alpha=.5);\n",
    "plt.legend()\n"
   ]
  },
  {
   "cell_type": "code",
   "execution_count": 13,
   "metadata": {
    "collapsed": false
   },
   "outputs": [
    {
     "data": {
      "text/plain": [
       "<matplotlib.legend.Legend at 0x11adccd30>"
      ]
     },
     "execution_count": 13,
     "metadata": {},
     "output_type": "execute_result"
    },
    {
     "data": {
      "image/png": "[encoded data removed]",
      "text/plain": [
       "<matplotlib.figure.Figure at 0x10a4edf28>"
      ]
     },
     "metadata": {},
     "output_type": "display_data"
    }
   ],
   "source": [
    "bins = np.logspace(0, np.log10(np.max(train.ReputationAtPostCreation.values)), num=20)\n",
    "plt.xscale(\"log\")\n",
    "plt.hist([train[train.OpenStatus==0].ReputationAtPostCreation.values, \n",
    "          train[train.OpenStatus==1].ReputationAtPostCreation.values],\n",
    "         bins = bins,\n",
    "         label = [0, 1],\n",
    "         alpha=.5);\n",
    "plt.legend()\n"
   ]
  },
  {
   "cell_type": "code",
   "execution_count": 14,
   "metadata": {
    "collapsed": false
   },
   "outputs": [],
   "source": [
    "%run 1.py"
   ]
  },
  {
   "cell_type": "code",
   "execution_count": 15,
   "metadata": {
    "collapsed": true
   },
   "outputs": [],
   "source": [
    "train = load_feature_matrix(\"../raw/train.csv\")"
   ]
  },
  {
   "cell_type": "code",
   "execution_count": 16,
   "metadata": {
    "collapsed": true
   },
   "outputs": [],
   "source": [
    "test = load_feature_matrix(\"../raw/test.csv\")"
   ]
  },
  {
   "cell_type": "code",
   "execution_count": 17,
   "metadata": {
    "collapsed": false
   },
   "outputs": [],
   "source": [
    "from sklearn.linear_model import LogisticRegression\n",
    "\n",
    "lr = LogisticRegression()\n"
   ]
  },
  {
   "cell_type": "code",
   "execution_count": 18,
   "metadata": {
    "collapsed": false
   },
   "outputs": [
    {
     "data": {
      "text/plain": [
       "LogisticRegression(C=1.0, class_weight=None, dual=False, fit_intercept=True,\n",
       "          intercept_scaling=1, max_iter=100, multi_class='ovr',\n",
       "          penalty='l2', random_state=None, solver='liblinear', tol=0.0001,\n",
       "          verbose=0)"
      ]
     },
     "execution_count": 18,
     "metadata": {},
     "output_type": "execute_result"
    }
   ],
   "source": [
    "columns = [\"ReputationAtPostCreation\", \"TitleLength\"]\n",
    "lr.fit(X = np.asarray(train[columns]), \n",
    "                y = np.asarray(train.OpenStatus).transpose())\n",
    "\n"
   ]
  },
  {
   "cell_type": "code",
   "execution_count": 19,
   "metadata": {
    "collapsed": false
   },
   "outputs": [
    {
     "data": {
      "text/plain": [
       "0.56027574997148399"
      ]
     },
     "execution_count": 19,
     "metadata": {},
     "output_type": "execute_result"
    }
   ],
   "source": [
    "lr.predict(np.asarray(train[columns]))\n",
    "np.mean(lr.predict(np.asarray(train[columns])) == train.OpenStatus)"
   ]
  },
  {
   "cell_type": "code",
   "execution_count": null,
   "metadata": {
    "collapsed": true
   },
   "outputs": [],
   "source": []
  },
  {
   "cell_type": "code",
   "execution_count": 20,
   "metadata": {
    "collapsed": false
   },
   "outputs": [
    {
     "data": {
      "text/plain": [
       "array([ 0.46134428,  0.4873078 ,  0.53645227, ...,  0.4713342 ,\n",
       "        0.4670116 ,  0.42318772])"
      ]
     },
     "execution_count": 20,
     "metadata": {},
     "output_type": "execute_result"
    }
   ],
   "source": [
    "lr.predict_proba(np.asarray(test[columns]))[:,1]"
   ]
  },
  {
   "cell_type": "code",
   "execution_count": 21,
   "metadata": {
    "collapsed": false
   },
   "outputs": [],
   "source": [
    "predictions = lr.predict_proba(np.asarray(test[columns]))[:,1]"
   ]
  },
  {
   "cell_type": "code",
   "execution_count": 22,
   "metadata": {
    "collapsed": false
   },
   "outputs": [
    {
     "name": "stdout",
     "output_type": "stream",
     "text": [
      "\"id\",\"OpenStatus\"\r\n",
      "11768878,0.5\r\n",
      "11768880,0.5\r\n",
      "11803678,0.5\r\n",
      "11803496,0.5\r\n",
      "11803700,0.5\r\n",
      "11927241,0.5\r\n",
      "11927226,0.5\r\n",
      "11927247,0.5\r\n",
      "11927248,0.5\r\n"
     ]
    }
   ],
   "source": [
    "!head ../raw/even_odds_sample_submission.csv"
   ]
  },
  {
   "cell_type": "code",
   "execution_count": 23,
   "metadata": {
    "collapsed": true
   },
   "outputs": [],
   "source": [
    "submission = pd.DataFrame({\"id\": test.PostId, \"OpenStatus\": predictions})"
   ]
  },
  {
   "cell_type": "code",
   "execution_count": 24,
   "metadata": {
    "collapsed": false
   },
   "outputs": [
    {
     "name": "stdout",
     "output_type": "stream",
     "text": [
      "mkdir: ../submissions: File exists\r\n"
     ]
    }
   ],
   "source": [
    "!mkdir ../submissions\n",
    "submission.to_csv(\"../submissions/first_submission.csv\")"
   ]
  },
  {
   "cell_type": "code",
   "execution_count": 25,
   "metadata": {
    "collapsed": false
   },
   "outputs": [
    {
     "name": "stdout",
     "output_type": "stream",
     "text": [
      ",OpenStatus,id\r\n",
      "0,0.4613442833831722,11768878\r\n",
      "1,0.4873077969266373,11768880\r\n",
      "2,0.5364522728505838,11803678\r\n",
      "3,0.4643847937420517,11803496\r\n",
      "4,0.46747052797421246,11803700\r\n",
      "5,0.4300963048222807,11927241\r\n",
      "6,0.5952349249022628,11927226\r\n",
      "7,0.46352014137915953,11927247\r\n",
      "8,0.4597117128306622,11927248\r\n"
     ]
    }
   ],
   "source": [
    "!head ../submissions/first_submission.csv"
   ]
  },
  {
   "cell_type": "code",
   "execution_count": 26,
   "metadata": {
    "collapsed": false
   },
   "outputs": [],
   "source": [
    "submission.to_csv(\"../submissions/first_submission.csv\", index = False)"
   ]
  },
  {
   "cell_type": "code",
   "execution_count": 27,
   "metadata": {
    "collapsed": false
   },
   "outputs": [
    {
     "name": "stdout",
     "output_type": "stream",
     "text": [
      "OpenStatus,id\r\n",
      "0.4613442833831722,11768878\r\n",
      "0.4873077969266373,11768880\r\n",
      "0.5364522728505838,11803678\r\n",
      "0.4643847937420517,11803496\r\n",
      "0.46747052797421246,11803700\r\n",
      "0.4300963048222807,11927241\r\n",
      "0.5952349249022628,11927226\r\n",
      "0.46352014137915953,11927247\r\n",
      "0.4597117128306622,11927248\r\n"
     ]
    }
   ],
   "source": [
    "!head ../submissions/first_submission.csv"
   ]
  },
  {
   "cell_type": "markdown",
   "metadata": {},
   "source": [
    "# Let's submit \n",
    "\n",
    "https://inclass.kaggle.com/c/pycon-2015-tutorial"
   ]
  },
  {
   "cell_type": "markdown",
   "metadata": {},
   "source": [
    "\"Log loss\" is based on:\n",
    "\n",
    "$$\\prod_{i=1}^N \\text{probability that prediction i is correct}$$"
   ]
  },
  {
   "cell_type": "markdown",
   "metadata": {},
   "source": [
    "# Homework\n",
    "\n",
    "- explore more features!\n",
    "- make your own submission!\n",
    "\n",
    "\n"
   ]
  },
  {
   "cell_type": "code",
   "execution_count": null,
   "metadata": {
    "collapsed": true
   },
   "outputs": [],
   "source": []
  }
 ],
 "metadata": {
  "kernelspec": {
   "display_name": "Python 3",
   "language": "python",
   "name": "python3"
  },
  "language_info": {
   "codemirror_mode": {
    "name": "ipython",
    "version": 3
   },
   "file_extension": ".py",
   "mimetype": "text/x-python",
   "name": "python",
   "nbconvert_exporter": "python",
   "pygments_lexer": "ipython3",
   "version": "3.4.3"
  }
 },
 "nbformat": 4,
 "nbformat_minor": 0
}
