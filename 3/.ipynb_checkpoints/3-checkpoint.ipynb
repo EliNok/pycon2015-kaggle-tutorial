{
 "cells": [
  {
   "cell_type": "code",
   "execution_count": 1,
   "metadata": {
    "collapsed": false
   },
   "outputs": [],
   "source": [
    "from sklearn.cross_validation import train_test_split\n",
    "%run ../2/2.py\n",
    "train = load_feature_matrix(\"../raw/train.csv\")\n",
    "mytrain, mytest = train_test_split(train, test_size = .4)"
   ]
  },
  {
   "cell_type": "code",
   "execution_count": 2,
   "metadata": {
    "collapsed": true
   },
   "outputs": [],
   "source": [
    "from sklearn.feature_extraction.text import CountVectorizer"
   ]
  },
  {
   "cell_type": "code",
   "execution_count": 3,
   "metadata": {
    "collapsed": true
   },
   "outputs": [],
   "source": [
    "title_vectorizer = CountVectorizer(max_features=200)"
   ]
  },
  {
   "cell_type": "code",
   "execution_count": 4,
   "metadata": {
    "collapsed": false
   },
   "outputs": [],
   "source": [
    "bow = title_vectorizer.fit_transform(mytrain[\"Title\"]).todense()"
   ]
  },
  {
   "cell_type": "markdown",
   "metadata": {},
   "source": [
    "# Column i, row j: \"how many times does word i appear in title j?\""
   ]
  },
  {
   "cell_type": "code",
   "execution_count": 5,
   "metadata": {
    "collapsed": false
   },
   "outputs": [
    {
     "data": {
      "text/plain": [
       "matrix([[0, 0, 0, ..., 0, 0, 1],\n",
       "        [0, 0, 0, ..., 0, 0, 0],\n",
       "        [0, 0, 0, ..., 0, 0, 0],\n",
       "        ..., \n",
       "        [0, 0, 0, ..., 0, 0, 0],\n",
       "        [0, 0, 0, ..., 0, 0, 0],\n",
       "        [0, 0, 0, ..., 0, 0, 0]], dtype=int64)"
      ]
     },
     "execution_count": 5,
     "metadata": {},
     "output_type": "execute_result"
    }
   ],
   "source": [
    "bow"
   ]
  },
  {
   "cell_type": "code",
   "execution_count": 6,
   "metadata": {
    "collapsed": false
   },
   "outputs": [
    {
     "data": {
      "text/plain": [
       "(84163, 200)"
      ]
     },
     "execution_count": 6,
     "metadata": {},
     "output_type": "execute_result"
    }
   ],
   "source": [
    "bow.shape"
   ]
  },
  {
   "cell_type": "code",
   "execution_count": 7,
   "metadata": {
    "collapsed": false
   },
   "outputs": [],
   "source": [
    "words = list(title_vectorizer.vocabulary_.keys())"
   ]
  },
  {
   "cell_type": "code",
   "execution_count": 8,
   "metadata": {
    "collapsed": false
   },
   "outputs": [
    {
     "data": {
      "text/plain": [
       "['any',\n",
       " 'can',\n",
       " 'work',\n",
       " 'up',\n",
       " 'site',\n",
       " 'studio',\n",
       " 'an',\n",
       " 'api',\n",
       " 'script',\n",
       " 'two',\n",
       " 'working',\n",
       " 'code',\n",
       " 'on',\n",
       " 'at',\n",
       " 'add',\n",
       " 'server',\n",
       " 'android',\n",
       " 'function',\n",
       " 'string',\n",
       " 'call',\n",
       " 'files',\n",
       " 'not',\n",
       " 'memory',\n",
       " 'problem',\n",
       " 'do',\n",
       " 'ruby',\n",
       " 'only',\n",
       " 'what',\n",
       " 'web',\n",
       " 'into',\n",
       " 'value',\n",
       " 'about',\n",
       " 'create',\n",
       " 'linux',\n",
       " 'wordpress',\n",
       " 'find',\n",
       " 'in',\n",
       " 'update',\n",
       " 'plugin',\n",
       " 'like',\n",
       " 'file',\n",
       " 'table',\n",
       " 'images',\n",
       " 'convert',\n",
       " 'should',\n",
       " 'application',\n",
       " 'method',\n",
       " 'content',\n",
       " 'class',\n",
       " 'be',\n",
       " 'other',\n",
       " 'to',\n",
       " 'all',\n",
       " 'for',\n",
       " 'python',\n",
       " 'net',\n",
       " 'programming',\n",
       " 'or',\n",
       " 'rails',\n",
       " 'you',\n",
       " 'list',\n",
       " 'key',\n",
       " 'input',\n",
       " 'when',\n",
       " 'same',\n",
       " 'website',\n",
       " 'another',\n",
       " 'django',\n",
       " 'out',\n",
       " 'framework',\n",
       " 'sql',\n",
       " 'time',\n",
       " 'get',\n",
       " 'php',\n",
       " 'program',\n",
       " 'mvc',\n",
       " 'make',\n",
       " 'url',\n",
       " 'through',\n",
       " 'why',\n",
       " 'by',\n",
       " 'has',\n",
       " 'change',\n",
       " 'there',\n",
       " 'windows',\n",
       " 'using',\n",
       " 'that',\n",
       " 'java',\n",
       " 'search',\n",
       " 'no',\n",
       " 'client',\n",
       " 'query',\n",
       " 'run',\n",
       " 'data',\n",
       " 'date',\n",
       " 'based',\n",
       " 'line',\n",
       " 'library',\n",
       " 'doesn',\n",
       " 'js',\n",
       " 'javascript',\n",
       " 'and',\n",
       " 'check',\n",
       " 'name',\n",
       " 'show',\n",
       " 'html',\n",
       " 'me',\n",
       " 'view',\n",
       " 'different',\n",
       " 'button',\n",
       " 'my',\n",
       " 'design',\n",
       " 'source',\n",
       " 'visual',\n",
       " 'software',\n",
       " 'set',\n",
       " 'asp',\n",
       " 'video',\n",
       " 'best',\n",
       " 'getting',\n",
       " 'which',\n",
       " 'use',\n",
       " 'with',\n",
       " 'google',\n",
       " 'the',\n",
       " 'type',\n",
       " 'mysql',\n",
       " 'possible',\n",
       " 'inside',\n",
       " 'how',\n",
       " 'simple',\n",
       " 'after',\n",
       " 'new',\n",
       " 'page',\n",
       " 'values',\n",
       " 'eclipse',\n",
       " 'variable',\n",
       " 'help',\n",
       " 'div',\n",
       " 'from',\n",
       " 'have',\n",
       " 'vs',\n",
       " 'ajax',\n",
       " 'write',\n",
       " 'text',\n",
       " 'open',\n",
       " 'way',\n",
       " 'jquery',\n",
       " 'app',\n",
       " 'load',\n",
       " 'image',\n",
       " 'but',\n",
       " 'without',\n",
       " 'multiple',\n",
       " 'while',\n",
       " 'control',\n",
       " 'xml',\n",
       " 'of',\n",
       " 'array',\n",
       " 'ios',\n",
       " 'one',\n",
       " 'database',\n",
       " 'form',\n",
       " 'project',\n",
       " 'is',\n",
       " 'error',\n",
       " 'display',\n",
       " 'facebook',\n",
       " 'system',\n",
       " 'between',\n",
       " 'json',\n",
       " 'this',\n",
       " 'wpf',\n",
       " 'language',\n",
       " 'event',\n",
       " 'are',\n",
       " 'question',\n",
       " 'where',\n",
       " 'as',\n",
       " 'does',\n",
       " 'object',\n",
       " 'if',\n",
       " 'number',\n",
       " 'access',\n",
       " 'creating',\n",
       " 'issue',\n",
       " 'element',\n",
       " 'select',\n",
       " 'development',\n",
       " 'read',\n",
       " 'css',\n",
       " 'good',\n",
       " 'it',\n",
       " 'need',\n",
       " 'service',\n",
       " 'command',\n",
       " 'custom',\n",
       " 'some',\n",
       " 'iphone',\n",
       " 'user']"
      ]
     },
     "execution_count": 8,
     "metadata": {},
     "output_type": "execute_result"
    }
   ],
   "source": [
    "words"
   ]
  },
  {
   "cell_type": "code",
   "execution_count": 9,
   "metadata": {
    "collapsed": true
   },
   "outputs": [],
   "source": [
    "col_names = [\"Title\\n\" + x for x in words]"
   ]
  },
  {
   "cell_type": "code",
   "execution_count": 10,
   "metadata": {
    "collapsed": false
   },
   "outputs": [],
   "source": [
    "bow_df = pd.DataFrame(bow, index=mytrain.index, columns = col_names)"
   ]
  },
  {
   "cell_type": "code",
   "execution_count": 11,
   "metadata": {
    "collapsed": false
   },
   "outputs": [
    {
     "data": {
      "text/html": [
       "<div style=\"max-height:1000px;max-width:1500px;overflow:auto;\">\n",
       "<table border=\"1\" class=\"dataframe\">\n",
       "  <thead>\n",
       "    <tr style=\"text-align: right;\">\n",
       "      <th></th>\n",
       "      <th>Title\n",
       "any</th>\n",
       "      <th>Title\n",
       "can</th>\n",
       "      <th>Title\n",
       "work</th>\n",
       "      <th>Title\n",
       "up</th>\n",
       "      <th>Title\n",
       "site</th>\n",
       "      <th>Title\n",
       "studio</th>\n",
       "      <th>Title\n",
       "an</th>\n",
       "      <th>Title\n",
       "api</th>\n",
       "      <th>Title\n",
       "script</th>\n",
       "      <th>Title\n",
       "two</th>\n",
       "      <th>...</th>\n",
       "      <th>Title\n",
       "css</th>\n",
       "      <th>Title\n",
       "good</th>\n",
       "      <th>Title\n",
       "it</th>\n",
       "      <th>Title\n",
       "need</th>\n",
       "      <th>Title\n",
       "service</th>\n",
       "      <th>Title\n",
       "command</th>\n",
       "      <th>Title\n",
       "custom</th>\n",
       "      <th>Title\n",
       "some</th>\n",
       "      <th>Title\n",
       "iphone</th>\n",
       "      <th>Title\n",
       "user</th>\n",
       "    </tr>\n",
       "  </thead>\n",
       "  <tbody>\n",
       "    <tr>\n",
       "      <th>80642</th>\n",
       "      <td>0</td>\n",
       "      <td>0</td>\n",
       "      <td>0</td>\n",
       "      <td>0</td>\n",
       "      <td>0</td>\n",
       "      <td>0</td>\n",
       "      <td>1</td>\n",
       "      <td>0</td>\n",
       "      <td>0</td>\n",
       "      <td>0</td>\n",
       "      <td>...</td>\n",
       "      <td>0</td>\n",
       "      <td>0</td>\n",
       "      <td>0</td>\n",
       "      <td>0</td>\n",
       "      <td>0</td>\n",
       "      <td>0</td>\n",
       "      <td>0</td>\n",
       "      <td>0</td>\n",
       "      <td>0</td>\n",
       "      <td>1</td>\n",
       "    </tr>\n",
       "    <tr>\n",
       "      <th>32133</th>\n",
       "      <td>0</td>\n",
       "      <td>0</td>\n",
       "      <td>0</td>\n",
       "      <td>0</td>\n",
       "      <td>0</td>\n",
       "      <td>0</td>\n",
       "      <td>0</td>\n",
       "      <td>0</td>\n",
       "      <td>0</td>\n",
       "      <td>0</td>\n",
       "      <td>...</td>\n",
       "      <td>0</td>\n",
       "      <td>0</td>\n",
       "      <td>0</td>\n",
       "      <td>0</td>\n",
       "      <td>0</td>\n",
       "      <td>0</td>\n",
       "      <td>0</td>\n",
       "      <td>0</td>\n",
       "      <td>0</td>\n",
       "      <td>0</td>\n",
       "    </tr>\n",
       "    <tr>\n",
       "      <th>88827</th>\n",
       "      <td>0</td>\n",
       "      <td>0</td>\n",
       "      <td>0</td>\n",
       "      <td>0</td>\n",
       "      <td>0</td>\n",
       "      <td>0</td>\n",
       "      <td>0</td>\n",
       "      <td>0</td>\n",
       "      <td>0</td>\n",
       "      <td>0</td>\n",
       "      <td>...</td>\n",
       "      <td>0</td>\n",
       "      <td>0</td>\n",
       "      <td>0</td>\n",
       "      <td>0</td>\n",
       "      <td>0</td>\n",
       "      <td>0</td>\n",
       "      <td>0</td>\n",
       "      <td>0</td>\n",
       "      <td>0</td>\n",
       "      <td>0</td>\n",
       "    </tr>\n",
       "    <tr>\n",
       "      <th>133059</th>\n",
       "      <td>0</td>\n",
       "      <td>0</td>\n",
       "      <td>0</td>\n",
       "      <td>0</td>\n",
       "      <td>0</td>\n",
       "      <td>0</td>\n",
       "      <td>0</td>\n",
       "      <td>0</td>\n",
       "      <td>0</td>\n",
       "      <td>0</td>\n",
       "      <td>...</td>\n",
       "      <td>1</td>\n",
       "      <td>0</td>\n",
       "      <td>0</td>\n",
       "      <td>0</td>\n",
       "      <td>0</td>\n",
       "      <td>0</td>\n",
       "      <td>0</td>\n",
       "      <td>0</td>\n",
       "      <td>0</td>\n",
       "      <td>0</td>\n",
       "    </tr>\n",
       "    <tr>\n",
       "      <th>80414</th>\n",
       "      <td>0</td>\n",
       "      <td>0</td>\n",
       "      <td>0</td>\n",
       "      <td>0</td>\n",
       "      <td>0</td>\n",
       "      <td>0</td>\n",
       "      <td>0</td>\n",
       "      <td>0</td>\n",
       "      <td>0</td>\n",
       "      <td>0</td>\n",
       "      <td>...</td>\n",
       "      <td>0</td>\n",
       "      <td>0</td>\n",
       "      <td>0</td>\n",
       "      <td>0</td>\n",
       "      <td>0</td>\n",
       "      <td>0</td>\n",
       "      <td>0</td>\n",
       "      <td>0</td>\n",
       "      <td>0</td>\n",
       "      <td>0</td>\n",
       "    </tr>\n",
       "  </tbody>\n",
       "</table>\n",
       "<p>5 rows × 200 columns</p>\n",
       "</div>"
      ],
      "text/plain": [
       "        Title\\nany  Title\\ncan  Title\\nwork  Title\\nup  Title\\nsite  \\\n",
       "80642            0           0            0          0            0   \n",
       "32133            0           0            0          0            0   \n",
       "88827            0           0            0          0            0   \n",
       "133059           0           0            0          0            0   \n",
       "80414            0           0            0          0            0   \n",
       "\n",
       "        Title\\nstudio  Title\\nan  Title\\napi  Title\\nscript  Title\\ntwo  \\\n",
       "80642               0          1           0              0           0   \n",
       "32133               0          0           0              0           0   \n",
       "88827               0          0           0              0           0   \n",
       "133059              0          0           0              0           0   \n",
       "80414               0          0           0              0           0   \n",
       "\n",
       "           ...       Title\\ncss  Title\\ngood  Title\\nit  Title\\nneed  \\\n",
       "80642      ...                0            0          0            0   \n",
       "32133      ...                0            0          0            0   \n",
       "88827      ...                0            0          0            0   \n",
       "133059     ...                1            0          0            0   \n",
       "80414      ...                0            0          0            0   \n",
       "\n",
       "        Title\\nservice  Title\\ncommand  Title\\ncustom  Title\\nsome  \\\n",
       "80642                0               0              0            0   \n",
       "32133                0               0              0            0   \n",
       "88827                0               0              0            0   \n",
       "133059               0               0              0            0   \n",
       "80414                0               0              0            0   \n",
       "\n",
       "        Title\\niphone  Title\\nuser  \n",
       "80642               0            1  \n",
       "32133               0            0  \n",
       "88827               0            0  \n",
       "133059              0            0  \n",
       "80414               0            0  \n",
       "\n",
       "[5 rows x 200 columns]"
      ]
     },
     "execution_count": 11,
     "metadata": {},
     "output_type": "execute_result"
    }
   ],
   "source": [
    "bow_df.head()"
   ]
  },
  {
   "cell_type": "code",
   "execution_count": 12,
   "metadata": {
    "collapsed": true
   },
   "outputs": [],
   "source": [
    "mytrain_expanded = mytrain.join(bow_df)"
   ]
  },
  {
   "cell_type": "code",
   "execution_count": 13,
   "metadata": {
    "collapsed": false
   },
   "outputs": [
    {
     "data": {
      "text/plain": [
       "80642     0\n",
       "32133     0\n",
       "88827     0\n",
       "133059    0\n",
       "80414     0\n",
       "64939     0\n",
       "54142     0\n",
       "37085     0\n",
       "79399     0\n",
       "53924     0\n",
       "3622      0\n",
       "8563      0\n",
       "37039     0\n",
       "3746      0\n",
       "100030    0\n",
       "84182     0\n",
       "30904     0\n",
       "71784     0\n",
       "134169    0\n",
       "75313     0\n",
       "129276    0\n",
       "55186     0\n",
       "132892    0\n",
       "31657     0\n",
       "60575     0\n",
       "104423    0\n",
       "38478     0\n",
       "95836     0\n",
       "61694     0\n",
       "30967     0\n",
       "         ..\n",
       "40181     0\n",
       "101763    0\n",
       "105998    0\n",
       "55884     0\n",
       "91432     0\n",
       "27535     0\n",
       "124502    0\n",
       "112010    0\n",
       "104651    0\n",
       "115659    0\n",
       "30655     0\n",
       "80243     0\n",
       "3491      0\n",
       "1938      0\n",
       "24683     0\n",
       "124905    0\n",
       "11744     0\n",
       "87390     0\n",
       "100910    0\n",
       "131008    0\n",
       "65406     0\n",
       "118660    0\n",
       "101140    0\n",
       "122587    0\n",
       "122839    0\n",
       "106028    0\n",
       "98314     0\n",
       "110626    0\n",
       "114880    0\n",
       "137194    0\n",
       "Name: Title\\nwithout, dtype: int64"
      ]
     },
     "execution_count": 13,
     "metadata": {},
     "output_type": "execute_result"
    }
   ],
   "source": [
    "mytrain_expanded[\"Title\\nwithout\"]"
   ]
  },
  {
   "cell_type": "code",
   "execution_count": 14,
   "metadata": {
    "collapsed": false
   },
   "outputs": [
    {
     "data": {
      "text/plain": [
       "(0, 10)"
      ]
     },
     "execution_count": 14,
     "metadata": {},
     "output_type": "execute_result"
    },
    {
     "data": {
      "image/png": "[encoded data removed]",
      "text/plain": [
       "<matplotlib.figure.Figure at 0x10a2b65f8>"
      ]
     },
     "metadata": {},
     "output_type": "display_data"
    }
   ],
   "source": [
    "import matplotlib.pyplot as plt\n",
    "import seaborn as sns\n",
    "import numpy as np\n",
    "plt.autoscale(enable=True)\n",
    "%matplotlib inline\n",
    "\n",
    "feature = \"Title\\nwithout\"\n",
    "plt.hist([mytrain_expanded[mytrain_expanded.OpenStatus==1][feature].values, \n",
    "          mytrain_expanded[mytrain_expanded.OpenStatus==0][feature].values], range(6), label=[1,0])\n",
    "plt.legend()\n",
    "plt.xlim(0,10)"
   ]
  },
  {
   "cell_type": "code",
   "execution_count": 15,
   "metadata": {
    "collapsed": false
   },
   "outputs": [
    {
     "data": {
      "text/plain": [
       "<matplotlib.legend.Legend at 0x1154b8c18>"
      ]
     },
     "execution_count": 15,
     "metadata": {},
     "output_type": "execute_result"
    },
    {
     "data": {
      "image/png": "[encoded data removed]",
      "text/plain": [
       "<matplotlib.figure.Figure at 0x1154b8e80>"
      ]
     },
     "metadata": {},
     "output_type": "display_data"
    }
   ],
   "source": [
    "plt.hist([mytrain_expanded[mytrain_expanded.OpenStatus==1][feature].values, \n",
    "          mytrain_expanded[mytrain_expanded.OpenStatus==0][feature].values], range(1,6), \n",
    "         label=[1,0])\n",
    "plt.legend()"
   ]
  },
  {
   "cell_type": "code",
   "execution_count": 16,
   "metadata": {
    "collapsed": true
   },
   "outputs": [],
   "source": [
    "def expand_with_bow_features(train, test, column, max_features = 200):\n",
    "\tvectorizer = CountVectorizer(max_features=max_features)\n",
    "\ttrain_matrix = vectorizer.fit_transform(train[column]).todense()\n",
    "\tcol_names = [column + x for x in list(vectorizer.vocabulary_.keys())]\n",
    "\ttrain = train.join(pd.DataFrame(train_matrix, index=train.index, columns = col_names))\n",
    "\ttest_matrix  = vectorizer.transform(test[column]).todense()\n",
    "\ttest = test.join(pd.DataFrame(test_matrix, index=test.index, columns = col_names))\n",
    "\treturn train, test, col_names\n"
   ]
  },
  {
   "cell_type": "code",
   "execution_count": 17,
   "metadata": {
    "collapsed": false
   },
   "outputs": [],
   "source": [
    "mytrain_expanded, mytest_expanded, new_cols = expand_with_bow_features(mytrain, mytest, \"Title\")"
   ]
  },
  {
   "cell_type": "code",
   "execution_count": 18,
   "metadata": {
    "collapsed": false
   },
   "outputs": [
    {
     "data": {
      "text/plain": [
       "0.63159097065452285"
      ]
     },
     "execution_count": 18,
     "metadata": {},
     "output_type": "execute_result"
    }
   ],
   "source": [
    "from sklearn.linear_model import LogisticRegression\n",
    "get_score(mytrain_expanded, mytest_expanded, LogisticRegression(), new_cols)"
   ]
  },
  {
   "cell_type": "code",
   "execution_count": null,
   "metadata": {
    "collapsed": true
   },
   "outputs": [],
   "source": []
  },
  {
   "cell_type": "code",
   "execution_count": null,
   "metadata": {
    "collapsed": true
   },
   "outputs": [],
   "source": []
  }
 ],
 "metadata": {
  "kernelspec": {
   "display_name": "Python 3",
   "language": "python",
   "name": "python3"
  },
  "language_info": {
   "codemirror_mode": {
    "name": "ipython",
    "version": 3
   },
   "file_extension": ".py",
   "mimetype": "text/x-python",
   "name": "python",
   "nbconvert_exporter": "python",
   "pygments_lexer": "ipython3",
   "version": "3.4.3"
  }
 },
 "nbformat": 4,
 "nbformat_minor": 0
}
