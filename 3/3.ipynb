{
 "cells": [
  {
   "cell_type": "code",
   "execution_count": 1,
   "metadata": {
    "collapsed": false
   },
   "outputs": [],
   "source": [
    "from sklearn.cross_validation import train_test_split\n",
    "%run ../2/2.py\n",
    "train = load_feature_matrix(\"../input/train.csv\")\n",
    "mytrain, mytest = train_test_split(train, test_size = .4)"
   ]
  },
  {
   "cell_type": "code",
   "execution_count": 3,
   "metadata": {
    "collapsed": true
   },
   "outputs": [],
   "source": [
    "from sklearn.feature_extraction.text import CountVectorizer"
   ]
  },
  {
   "cell_type": "code",
   "execution_count": 4,
   "metadata": {
    "collapsed": true
   },
   "outputs": [],
   "source": [
    "title_vectorizer = CountVectorizer(max_features=200)"
   ]
  },
  {
   "cell_type": "code",
   "execution_count": 7,
   "metadata": {
    "collapsed": false
   },
   "outputs": [],
   "source": [
    "bow = title_vectorizer.fit_transform(mytrain[\"Title\"]).todense()"
   ]
  },
  {
   "cell_type": "markdown",
   "metadata": {},
   "source": [
    "# Column i, row j: \"how many times does word i appear in title j?\""
   ]
  },
  {
   "cell_type": "code",
   "execution_count": 8,
   "metadata": {
    "collapsed": false
   },
   "outputs": [
    {
     "data": {
      "text/plain": [
       "matrix([[0, 0, 0, ..., 0, 0, 0],\n",
       "        [0, 0, 0, ..., 0, 0, 0],\n",
       "        [0, 0, 0, ..., 0, 0, 0],\n",
       "        ..., \n",
       "        [0, 0, 0, ..., 0, 0, 0],\n",
       "        [0, 0, 0, ..., 0, 0, 0],\n",
       "        [0, 0, 0, ..., 0, 0, 0]], dtype=int64)"
      ]
     },
     "execution_count": 8,
     "metadata": {},
     "output_type": "execute_result"
    }
   ],
   "source": [
    "bow"
   ]
  },
  {
   "cell_type": "code",
   "execution_count": 9,
   "metadata": {
    "collapsed": false
   },
   "outputs": [
    {
     "data": {
      "text/plain": [
       "(84163, 200)"
      ]
     },
     "execution_count": 9,
     "metadata": {},
     "output_type": "execute_result"
    }
   ],
   "source": [
    "bow.shape"
   ]
  },
  {
   "cell_type": "code",
   "execution_count": 11,
   "metadata": {
    "collapsed": false
   },
   "outputs": [],
   "source": [
    "words = list(title_vectorizer.vocabulary_.keys())"
   ]
  },
  {
   "cell_type": "code",
   "execution_count": 12,
   "metadata": {
    "collapsed": false
   },
   "outputs": [
    {
     "data": {
      "text/plain": [
       "['through',\n",
       " 'django',\n",
       " 'but',\n",
       " 'another',\n",
       " 'php',\n",
       " 'memory',\n",
       " 'inside',\n",
       " 'type',\n",
       " 'other',\n",
       " 'variable',\n",
       " 'how',\n",
       " 'books',\n",
       " 'possible',\n",
       " 'do',\n",
       " 'wpf',\n",
       " 'out',\n",
       " 'this',\n",
       " 'jquery',\n",
       " 'some',\n",
       " 'mobile',\n",
       " 'be',\n",
       " 'form',\n",
       " 'rails',\n",
       " 'ios',\n",
       " 'object',\n",
       " 'vs',\n",
       " 'why',\n",
       " 'way',\n",
       " 'add',\n",
       " 'date',\n",
       " 'or',\n",
       " 'get',\n",
       " 'game',\n",
       " 'as',\n",
       " 'xml',\n",
       " 'project',\n",
       " 'client',\n",
       " 'with',\n",
       " 'make',\n",
       " 'in',\n",
       " 'element',\n",
       " 'event',\n",
       " 'mvc',\n",
       " 'mysql',\n",
       " 'name',\n",
       " 'data',\n",
       " 'load',\n",
       " 'design',\n",
       " 'only',\n",
       " 'service',\n",
       " 'read',\n",
       " 'help',\n",
       " 'visual',\n",
       " 'up',\n",
       " 'best',\n",
       " 'function',\n",
       " 'when',\n",
       " 'have',\n",
       " 'language',\n",
       " 'query',\n",
       " 'at',\n",
       " 'javascript',\n",
       " 'are',\n",
       " 'using',\n",
       " 'display',\n",
       " 'google',\n",
       " 'what',\n",
       " 'between',\n",
       " 'source',\n",
       " 'android',\n",
       " 'if',\n",
       " 'issue',\n",
       " 'java',\n",
       " 'custom',\n",
       " 'code',\n",
       " 'method',\n",
       " 'html',\n",
       " 'on',\n",
       " 'facebook',\n",
       " 'change',\n",
       " 'values',\n",
       " 'which',\n",
       " 'while',\n",
       " 'without',\n",
       " 'of',\n",
       " 'sql',\n",
       " 'run',\n",
       " 'all',\n",
       " 'file',\n",
       " 'api',\n",
       " 'creating',\n",
       " 'programming',\n",
       " 'check',\n",
       " 'class',\n",
       " 'where',\n",
       " 'you',\n",
       " 'simple',\n",
       " 'open',\n",
       " 'number',\n",
       " 'any',\n",
       " 'python',\n",
       " 'user',\n",
       " 'framework',\n",
       " 'program',\n",
       " 'software',\n",
       " 'key',\n",
       " 'should',\n",
       " 'the',\n",
       " 'show',\n",
       " 'set',\n",
       " 'good',\n",
       " 'call',\n",
       " 'that',\n",
       " 'app',\n",
       " 'it',\n",
       " 'div',\n",
       " 'create',\n",
       " 'can',\n",
       " 'about',\n",
       " 'asp',\n",
       " 'time',\n",
       " 'image',\n",
       " 'me',\n",
       " 'linux',\n",
       " 'array',\n",
       " 'ruby',\n",
       " 'need',\n",
       " 'table',\n",
       " 'search',\n",
       " 'two',\n",
       " 'doesn',\n",
       " 'command',\n",
       " 'js',\n",
       " 'getting',\n",
       " 'windows',\n",
       " 'update',\n",
       " 'value',\n",
       " 'problem',\n",
       " 'view',\n",
       " 'one',\n",
       " 'ajax',\n",
       " 'script',\n",
       " 'after',\n",
       " 'server',\n",
       " 'to',\n",
       " 'convert',\n",
       " 'start',\n",
       " 'does',\n",
       " 'like',\n",
       " 'development',\n",
       " 'content',\n",
       " 'studio',\n",
       " 'use',\n",
       " 'page',\n",
       " 'iphone',\n",
       " 'system',\n",
       " 'work',\n",
       " 'application',\n",
       " 'control',\n",
       " 'web',\n",
       " 'library',\n",
       " 'an',\n",
       " 'same',\n",
       " 'into',\n",
       " 'no',\n",
       " 'is',\n",
       " 'url',\n",
       " 'error',\n",
       " 'multiple',\n",
       " 'access',\n",
       " 'list',\n",
       " 'database',\n",
       " 'net',\n",
       " 'line',\n",
       " 'from',\n",
       " 'css',\n",
       " 'input',\n",
       " 'new',\n",
       " 'website',\n",
       " 'button',\n",
       " 'my',\n",
       " 'for',\n",
       " 'working',\n",
       " 'select',\n",
       " 'text',\n",
       " 'files',\n",
       " 'based',\n",
       " 'images',\n",
       " 'question',\n",
       " 'video',\n",
       " 'string',\n",
       " 'find',\n",
       " 'write',\n",
       " 'site',\n",
       " 'has',\n",
       " 'and',\n",
       " 'there',\n",
       " 'by',\n",
       " 'not',\n",
       " 'different']"
      ]
     },
     "execution_count": 12,
     "metadata": {},
     "output_type": "execute_result"
    }
   ],
   "source": [
    "words"
   ]
  },
  {
   "cell_type": "code",
   "execution_count": 13,
   "metadata": {
    "collapsed": true
   },
   "outputs": [],
   "source": [
    "col_names = [\"Title\\n\" + x for x in words]"
   ]
  },
  {
   "cell_type": "code",
   "execution_count": 14,
   "metadata": {
    "collapsed": false
   },
   "outputs": [
    {
     "data": {
      "text/plain": [
       "['Title\\nthrough',\n",
       " 'Title\\ndjango',\n",
       " 'Title\\nbut',\n",
       " 'Title\\nanother',\n",
       " 'Title\\nphp',\n",
       " 'Title\\nmemory',\n",
       " 'Title\\ninside',\n",
       " 'Title\\ntype',\n",
       " 'Title\\nother',\n",
       " 'Title\\nvariable',\n",
       " 'Title\\nhow',\n",
       " 'Title\\nbooks',\n",
       " 'Title\\npossible',\n",
       " 'Title\\ndo',\n",
       " 'Title\\nwpf',\n",
       " 'Title\\nout',\n",
       " 'Title\\nthis',\n",
       " 'Title\\njquery',\n",
       " 'Title\\nsome',\n",
       " 'Title\\nmobile',\n",
       " 'Title\\nbe',\n",
       " 'Title\\nform',\n",
       " 'Title\\nrails',\n",
       " 'Title\\nios',\n",
       " 'Title\\nobject',\n",
       " 'Title\\nvs',\n",
       " 'Title\\nwhy',\n",
       " 'Title\\nway',\n",
       " 'Title\\nadd',\n",
       " 'Title\\ndate',\n",
       " 'Title\\nor',\n",
       " 'Title\\nget',\n",
       " 'Title\\ngame',\n",
       " 'Title\\nas',\n",
       " 'Title\\nxml',\n",
       " 'Title\\nproject',\n",
       " 'Title\\nclient',\n",
       " 'Title\\nwith',\n",
       " 'Title\\nmake',\n",
       " 'Title\\nin',\n",
       " 'Title\\nelement',\n",
       " 'Title\\nevent',\n",
       " 'Title\\nmvc',\n",
       " 'Title\\nmysql',\n",
       " 'Title\\nname',\n",
       " 'Title\\ndata',\n",
       " 'Title\\nload',\n",
       " 'Title\\ndesign',\n",
       " 'Title\\nonly',\n",
       " 'Title\\nservice',\n",
       " 'Title\\nread',\n",
       " 'Title\\nhelp',\n",
       " 'Title\\nvisual',\n",
       " 'Title\\nup',\n",
       " 'Title\\nbest',\n",
       " 'Title\\nfunction',\n",
       " 'Title\\nwhen',\n",
       " 'Title\\nhave',\n",
       " 'Title\\nlanguage',\n",
       " 'Title\\nquery',\n",
       " 'Title\\nat',\n",
       " 'Title\\njavascript',\n",
       " 'Title\\nare',\n",
       " 'Title\\nusing',\n",
       " 'Title\\ndisplay',\n",
       " 'Title\\ngoogle',\n",
       " 'Title\\nwhat',\n",
       " 'Title\\nbetween',\n",
       " 'Title\\nsource',\n",
       " 'Title\\nandroid',\n",
       " 'Title\\nif',\n",
       " 'Title\\nissue',\n",
       " 'Title\\njava',\n",
       " 'Title\\ncustom',\n",
       " 'Title\\ncode',\n",
       " 'Title\\nmethod',\n",
       " 'Title\\nhtml',\n",
       " 'Title\\non',\n",
       " 'Title\\nfacebook',\n",
       " 'Title\\nchange',\n",
       " 'Title\\nvalues',\n",
       " 'Title\\nwhich',\n",
       " 'Title\\nwhile',\n",
       " 'Title\\nwithout',\n",
       " 'Title\\nof',\n",
       " 'Title\\nsql',\n",
       " 'Title\\nrun',\n",
       " 'Title\\nall',\n",
       " 'Title\\nfile',\n",
       " 'Title\\napi',\n",
       " 'Title\\ncreating',\n",
       " 'Title\\nprogramming',\n",
       " 'Title\\ncheck',\n",
       " 'Title\\nclass',\n",
       " 'Title\\nwhere',\n",
       " 'Title\\nyou',\n",
       " 'Title\\nsimple',\n",
       " 'Title\\nopen',\n",
       " 'Title\\nnumber',\n",
       " 'Title\\nany',\n",
       " 'Title\\npython',\n",
       " 'Title\\nuser',\n",
       " 'Title\\nframework',\n",
       " 'Title\\nprogram',\n",
       " 'Title\\nsoftware',\n",
       " 'Title\\nkey',\n",
       " 'Title\\nshould',\n",
       " 'Title\\nthe',\n",
       " 'Title\\nshow',\n",
       " 'Title\\nset',\n",
       " 'Title\\ngood',\n",
       " 'Title\\ncall',\n",
       " 'Title\\nthat',\n",
       " 'Title\\napp',\n",
       " 'Title\\nit',\n",
       " 'Title\\ndiv',\n",
       " 'Title\\ncreate',\n",
       " 'Title\\ncan',\n",
       " 'Title\\nabout',\n",
       " 'Title\\nasp',\n",
       " 'Title\\ntime',\n",
       " 'Title\\nimage',\n",
       " 'Title\\nme',\n",
       " 'Title\\nlinux',\n",
       " 'Title\\narray',\n",
       " 'Title\\nruby',\n",
       " 'Title\\nneed',\n",
       " 'Title\\ntable',\n",
       " 'Title\\nsearch',\n",
       " 'Title\\ntwo',\n",
       " 'Title\\ndoesn',\n",
       " 'Title\\ncommand',\n",
       " 'Title\\njs',\n",
       " 'Title\\ngetting',\n",
       " 'Title\\nwindows',\n",
       " 'Title\\nupdate',\n",
       " 'Title\\nvalue',\n",
       " 'Title\\nproblem',\n",
       " 'Title\\nview',\n",
       " 'Title\\none',\n",
       " 'Title\\najax',\n",
       " 'Title\\nscript',\n",
       " 'Title\\nafter',\n",
       " 'Title\\nserver',\n",
       " 'Title\\nto',\n",
       " 'Title\\nconvert',\n",
       " 'Title\\nstart',\n",
       " 'Title\\ndoes',\n",
       " 'Title\\nlike',\n",
       " 'Title\\ndevelopment',\n",
       " 'Title\\ncontent',\n",
       " 'Title\\nstudio',\n",
       " 'Title\\nuse',\n",
       " 'Title\\npage',\n",
       " 'Title\\niphone',\n",
       " 'Title\\nsystem',\n",
       " 'Title\\nwork',\n",
       " 'Title\\napplication',\n",
       " 'Title\\ncontrol',\n",
       " 'Title\\nweb',\n",
       " 'Title\\nlibrary',\n",
       " 'Title\\nan',\n",
       " 'Title\\nsame',\n",
       " 'Title\\ninto',\n",
       " 'Title\\nno',\n",
       " 'Title\\nis',\n",
       " 'Title\\nurl',\n",
       " 'Title\\nerror',\n",
       " 'Title\\nmultiple',\n",
       " 'Title\\naccess',\n",
       " 'Title\\nlist',\n",
       " 'Title\\ndatabase',\n",
       " 'Title\\nnet',\n",
       " 'Title\\nline',\n",
       " 'Title\\nfrom',\n",
       " 'Title\\ncss',\n",
       " 'Title\\ninput',\n",
       " 'Title\\nnew',\n",
       " 'Title\\nwebsite',\n",
       " 'Title\\nbutton',\n",
       " 'Title\\nmy',\n",
       " 'Title\\nfor',\n",
       " 'Title\\nworking',\n",
       " 'Title\\nselect',\n",
       " 'Title\\ntext',\n",
       " 'Title\\nfiles',\n",
       " 'Title\\nbased',\n",
       " 'Title\\nimages',\n",
       " 'Title\\nquestion',\n",
       " 'Title\\nvideo',\n",
       " 'Title\\nstring',\n",
       " 'Title\\nfind',\n",
       " 'Title\\nwrite',\n",
       " 'Title\\nsite',\n",
       " 'Title\\nhas',\n",
       " 'Title\\nand',\n",
       " 'Title\\nthere',\n",
       " 'Title\\nby',\n",
       " 'Title\\nnot',\n",
       " 'Title\\ndifferent']"
      ]
     },
     "execution_count": 14,
     "metadata": {},
     "output_type": "execute_result"
    }
   ],
   "source": [
    "col_names"
   ]
  },
  {
   "cell_type": "code",
   "execution_count": 21,
   "metadata": {
    "collapsed": false
   },
   "outputs": [],
   "source": [
    "bow_df = pd.DataFrame(bow, index=mytrain.index, columns = col_names)"
   ]
  },
  {
   "cell_type": "code",
   "execution_count": 22,
   "metadata": {
    "collapsed": false
   },
   "outputs": [
    {
     "data": {
      "text/html": [
       "<div style=\"max-height:1000px;max-width:1500px;overflow:auto;\">\n",
       "<table border=\"1\" class=\"dataframe\">\n",
       "  <thead>\n",
       "    <tr style=\"text-align: right;\">\n",
       "      <th></th>\n",
       "      <th>Title\n",
       "through</th>\n",
       "      <th>Title\n",
       "django</th>\n",
       "      <th>Title\n",
       "but</th>\n",
       "      <th>Title\n",
       "another</th>\n",
       "      <th>Title\n",
       "php</th>\n",
       "      <th>Title\n",
       "memory</th>\n",
       "      <th>Title\n",
       "inside</th>\n",
       "      <th>Title\n",
       "type</th>\n",
       "      <th>Title\n",
       "other</th>\n",
       "      <th>Title\n",
       "variable</th>\n",
       "      <th>...</th>\n",
       "      <th>Title\n",
       "string</th>\n",
       "      <th>Title\n",
       "find</th>\n",
       "      <th>Title\n",
       "write</th>\n",
       "      <th>Title\n",
       "site</th>\n",
       "      <th>Title\n",
       "has</th>\n",
       "      <th>Title\n",
       "and</th>\n",
       "      <th>Title\n",
       "there</th>\n",
       "      <th>Title\n",
       "by</th>\n",
       "      <th>Title\n",
       "not</th>\n",
       "      <th>Title\n",
       "different</th>\n",
       "    </tr>\n",
       "  </thead>\n",
       "  <tbody>\n",
       "    <tr>\n",
       "      <th>38360</th>\n",
       "      <td>0</td>\n",
       "      <td>0</td>\n",
       "      <td>0</td>\n",
       "      <td>0</td>\n",
       "      <td>0</td>\n",
       "      <td>0</td>\n",
       "      <td>0</td>\n",
       "      <td>1</td>\n",
       "      <td>0</td>\n",
       "      <td>0</td>\n",
       "      <td>...</td>\n",
       "      <td>0</td>\n",
       "      <td>0</td>\n",
       "      <td>2</td>\n",
       "      <td>0</td>\n",
       "      <td>0</td>\n",
       "      <td>0</td>\n",
       "      <td>0</td>\n",
       "      <td>0</td>\n",
       "      <td>0</td>\n",
       "      <td>0</td>\n",
       "    </tr>\n",
       "    <tr>\n",
       "      <th>82581</th>\n",
       "      <td>0</td>\n",
       "      <td>0</td>\n",
       "      <td>0</td>\n",
       "      <td>0</td>\n",
       "      <td>0</td>\n",
       "      <td>0</td>\n",
       "      <td>0</td>\n",
       "      <td>0</td>\n",
       "      <td>0</td>\n",
       "      <td>0</td>\n",
       "      <td>...</td>\n",
       "      <td>0</td>\n",
       "      <td>0</td>\n",
       "      <td>0</td>\n",
       "      <td>0</td>\n",
       "      <td>0</td>\n",
       "      <td>0</td>\n",
       "      <td>0</td>\n",
       "      <td>0</td>\n",
       "      <td>0</td>\n",
       "      <td>0</td>\n",
       "    </tr>\n",
       "    <tr>\n",
       "      <th>19331</th>\n",
       "      <td>0</td>\n",
       "      <td>0</td>\n",
       "      <td>0</td>\n",
       "      <td>0</td>\n",
       "      <td>0</td>\n",
       "      <td>0</td>\n",
       "      <td>0</td>\n",
       "      <td>0</td>\n",
       "      <td>0</td>\n",
       "      <td>0</td>\n",
       "      <td>...</td>\n",
       "      <td>0</td>\n",
       "      <td>0</td>\n",
       "      <td>0</td>\n",
       "      <td>0</td>\n",
       "      <td>0</td>\n",
       "      <td>0</td>\n",
       "      <td>0</td>\n",
       "      <td>0</td>\n",
       "      <td>0</td>\n",
       "      <td>0</td>\n",
       "    </tr>\n",
       "    <tr>\n",
       "      <th>34474</th>\n",
       "      <td>0</td>\n",
       "      <td>0</td>\n",
       "      <td>0</td>\n",
       "      <td>0</td>\n",
       "      <td>0</td>\n",
       "      <td>0</td>\n",
       "      <td>0</td>\n",
       "      <td>0</td>\n",
       "      <td>0</td>\n",
       "      <td>0</td>\n",
       "      <td>...</td>\n",
       "      <td>0</td>\n",
       "      <td>0</td>\n",
       "      <td>0</td>\n",
       "      <td>0</td>\n",
       "      <td>0</td>\n",
       "      <td>0</td>\n",
       "      <td>0</td>\n",
       "      <td>0</td>\n",
       "      <td>0</td>\n",
       "      <td>0</td>\n",
       "    </tr>\n",
       "    <tr>\n",
       "      <th>135384</th>\n",
       "      <td>0</td>\n",
       "      <td>0</td>\n",
       "      <td>0</td>\n",
       "      <td>0</td>\n",
       "      <td>0</td>\n",
       "      <td>0</td>\n",
       "      <td>0</td>\n",
       "      <td>0</td>\n",
       "      <td>0</td>\n",
       "      <td>0</td>\n",
       "      <td>...</td>\n",
       "      <td>0</td>\n",
       "      <td>0</td>\n",
       "      <td>0</td>\n",
       "      <td>0</td>\n",
       "      <td>0</td>\n",
       "      <td>0</td>\n",
       "      <td>0</td>\n",
       "      <td>0</td>\n",
       "      <td>0</td>\n",
       "      <td>0</td>\n",
       "    </tr>\n",
       "  </tbody>\n",
       "</table>\n",
       "<p>5 rows × 200 columns</p>\n",
       "</div>"
      ],
      "text/plain": [
       "        Title\\nthrough  Title\\ndjango  Title\\nbut  Title\\nanother  Title\\nphp  \\\n",
       "38360                0              0           0               0           0   \n",
       "82581                0              0           0               0           0   \n",
       "19331                0              0           0               0           0   \n",
       "34474                0              0           0               0           0   \n",
       "135384               0              0           0               0           0   \n",
       "\n",
       "        Title\\nmemory  Title\\ninside  Title\\ntype  Title\\nother  \\\n",
       "38360               0              0            1             0   \n",
       "82581               0              0            0             0   \n",
       "19331               0              0            0             0   \n",
       "34474               0              0            0             0   \n",
       "135384              0              0            0             0   \n",
       "\n",
       "        Title\\nvariable        ...         Title\\nstring  Title\\nfind  \\\n",
       "38360                 0        ...                     0            0   \n",
       "82581                 0        ...                     0            0   \n",
       "19331                 0        ...                     0            0   \n",
       "34474                 0        ...                     0            0   \n",
       "135384                0        ...                     0            0   \n",
       "\n",
       "        Title\\nwrite  Title\\nsite  Title\\nhas  Title\\nand  Title\\nthere  \\\n",
       "38360              2            0           0           0             0   \n",
       "82581              0            0           0           0             0   \n",
       "19331              0            0           0           0             0   \n",
       "34474              0            0           0           0             0   \n",
       "135384             0            0           0           0             0   \n",
       "\n",
       "        Title\\nby  Title\\nnot  Title\\ndifferent  \n",
       "38360           0           0                 0  \n",
       "82581           0           0                 0  \n",
       "19331           0           0                 0  \n",
       "34474           0           0                 0  \n",
       "135384          0           0                 0  \n",
       "\n",
       "[5 rows x 200 columns]"
      ]
     },
     "execution_count": 22,
     "metadata": {},
     "output_type": "execute_result"
    }
   ],
   "source": [
    "bow_df.head()"
   ]
  },
  {
   "cell_type": "code",
   "execution_count": 25,
   "metadata": {
    "collapsed": true
   },
   "outputs": [],
   "source": [
    "mytrain_expanded = mytrain.join(bow_df)"
   ]
  },
  {
   "cell_type": "code",
   "execution_count": 26,
   "metadata": {
    "collapsed": false
   },
   "outputs": [
    {
     "data": {
      "text/plain": [
       "38360     0\n",
       "82581     0\n",
       "19331     0\n",
       "34474     0\n",
       "135384    0\n",
       "28739     0\n",
       "139239    0\n",
       "39317     0\n",
       "40544     0\n",
       "103337    0\n",
       "39724     0\n",
       "94824     0\n",
       "12842     0\n",
       "37019     0\n",
       "27054     0\n",
       "77505     0\n",
       "75624     0\n",
       "52929     0\n",
       "42709     0\n",
       "8658      0\n",
       "79998     0\n",
       "43715     0\n",
       "40935     0\n",
       "23463     0\n",
       "31666     0\n",
       "12668     0\n",
       "120851    0\n",
       "91493     0\n",
       "103120    0\n",
       "26151     0\n",
       "         ..\n",
       "40308     0\n",
       "103592    0\n",
       "125359    0\n",
       "124670    0\n",
       "94985     0\n",
       "260       0\n",
       "113009    0\n",
       "20494     0\n",
       "82278     0\n",
       "40370     0\n",
       "120128    0\n",
       "82191     0\n",
       "77583     0\n",
       "12873     0\n",
       "124563    0\n",
       "113159    0\n",
       "100822    0\n",
       "131735    0\n",
       "94091     0\n",
       "118549    0\n",
       "133301    0\n",
       "114062    0\n",
       "77613     0\n",
       "17615     0\n",
       "94656     0\n",
       "121047    0\n",
       "41422     0\n",
       "63747     0\n",
       "43014     0\n",
       "124827    0\n",
       "Name: Title\\nwithout, dtype: int64"
      ]
     },
     "execution_count": 26,
     "metadata": {},
     "output_type": "execute_result"
    }
   ],
   "source": [
    "mytrain_expanded[\"Title\\nwithout\"]"
   ]
  },
  {
   "cell_type": "code",
   "execution_count": 27,
   "metadata": {
    "collapsed": false
   },
   "outputs": [
    {
     "data": {
      "text/plain": [
       "(0, 10)"
      ]
     },
     "execution_count": 27,
     "metadata": {},
     "output_type": "execute_result"
    },
    {
     "data": {
      "image/png": "[encoded data removed]",
      "text/plain": [
       "<matplotlib.figure.Figure at 0x108b09358>"
      ]
     },
     "metadata": {},
     "output_type": "display_data"
    }
   ],
   "source": [
    "import matplotlib.pyplot as plt\n",
    "import seaborn as sns\n",
    "import numpy as np\n",
    "plt.autoscale(enable=True)\n",
    "%matplotlib inline\n",
    "\n",
    "feature = \"Title\\nwithout\"\n",
    "plt.hist([mytrain_expanded[mytrain_expanded.OpenStatus==1][feature].values, \n",
    "          mytrain_expanded[mytrain_expanded.OpenStatus==0][feature].values], range(6), label=[1,0])\n",
    "plt.legend()\n",
    "plt.xlim(0,10)"
   ]
  },
  {
   "cell_type": "code",
   "execution_count": 29,
   "metadata": {
    "collapsed": false
   },
   "outputs": [
    {
     "data": {
      "text/plain": [
       "<matplotlib.legend.Legend at 0x10c4b9fd0>"
      ]
     },
     "execution_count": 29,
     "metadata": {},
     "output_type": "execute_result"
    },
    {
     "data": {
      "image/png": "[encoded data removed]",
      "text/plain": [
       "<matplotlib.figure.Figure at 0x10c4b9710>"
      ]
     },
     "metadata": {},
     "output_type": "display_data"
    }
   ],
   "source": [
    "plt.hist([mytrain_expanded[mytrain_expanded.OpenStatus==1][feature].values, \n",
    "          mytrain_expanded[mytrain_expanded.OpenStatus==0][feature].values], \n",
    "         range(1,6), \n",
    "         label=[1,0])\n",
    "plt.legend()"
   ]
  },
  {
   "cell_type": "code",
   "execution_count": 30,
   "metadata": {
    "collapsed": true
   },
   "outputs": [],
   "source": [
    "def expand_with_bow_features(train, test, column, max_features = 200):\n",
    "\tvectorizer = CountVectorizer(max_features=max_features)\n",
    "\ttrain_matrix = vectorizer.fit_transform(train[column]).todense()\n",
    "\tcol_names = [column + x for x in list(vectorizer.vocabulary_.keys())]\n",
    "\ttrain = train.join(pd.DataFrame(train_matrix, index=train.index, columns = col_names))\n",
    "\ttest_matrix  = vectorizer.transform(test[column]).todense()\n",
    "\ttest = test.join(pd.DataFrame(test_matrix, index=test.index, columns = col_names))\n",
    "\treturn train, test, col_names\n"
   ]
  },
  {
   "cell_type": "code",
   "execution_count": 32,
   "metadata": {
    "collapsed": false
   },
   "outputs": [],
   "source": [
    "mytrain_expanded, mytest_expanded, new_cols = expand_with_bow_features(mytrain, mytest, \"Title\")"
   ]
  },
  {
   "cell_type": "code",
   "execution_count": 33,
   "metadata": {
    "collapsed": false
   },
   "outputs": [
    {
     "data": {
      "text/plain": [
       "0.63052137242856576"
      ]
     },
     "execution_count": 33,
     "metadata": {},
     "output_type": "execute_result"
    }
   ],
   "source": [
    "from sklearn.linear_model import LogisticRegression\n",
    "get_score(mytrain_expanded, mytest_expanded, LogisticRegression(), new_cols)"
   ]
  },
  {
   "cell_type": "code",
   "execution_count": null,
   "metadata": {
    "collapsed": true
   },
   "outputs": [],
   "source": []
  },
  {
   "cell_type": "code",
   "execution_count": null,
   "metadata": {
    "collapsed": true
   },
   "outputs": [],
   "source": []
  }
 ],
 "metadata": {
  "kernelspec": {
   "display_name": "Python 3",
   "language": "python",
   "name": "python3"
  },
  "language_info": {
   "codemirror_mode": {
    "name": "ipython",
    "version": 3
   },
   "file_extension": ".py",
   "mimetype": "text/x-python",
   "name": "python",
   "nbconvert_exporter": "python",
   "pygments_lexer": "ipython3",
   "version": "3.4.3"
  }
 },
 "nbformat": 4,
 "nbformat_minor": 0
}
